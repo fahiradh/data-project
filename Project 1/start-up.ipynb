{
 "cells": [
  {
   "cell_type": "code",
   "execution_count": 189,
   "metadata": {},
   "outputs": [],
   "source": [
    "import pandas as pd\n",
    "import numpy as np"
   ]
  },
  {
   "cell_type": "code",
   "execution_count": 190,
   "metadata": {},
   "outputs": [
    {
     "data": {
      "text/html": [
       "<div>\n",
       "<style scoped>\n",
       "    .dataframe tbody tr th:only-of-type {\n",
       "        vertical-align: middle;\n",
       "    }\n",
       "\n",
       "    .dataframe tbody tr th {\n",
       "        vertical-align: top;\n",
       "    }\n",
       "\n",
       "    .dataframe thead th {\n",
       "        text-align: right;\n",
       "    }\n",
       "</style>\n",
       "<table border=\"1\" class=\"dataframe\">\n",
       "  <thead>\n",
       "    <tr style=\"text-align: right;\">\n",
       "      <th></th>\n",
       "      <th>state_code</th>\n",
       "      <th>latitude</th>\n",
       "      <th>longitude</th>\n",
       "      <th>founded_at</th>\n",
       "      <th>age_first_funding_year</th>\n",
       "      <th>age_last_funding_year</th>\n",
       "      <th>funding_rounds</th>\n",
       "      <th>funding_total_usd</th>\n",
       "      <th>category_code</th>\n",
       "      <th>has_VC</th>\n",
       "      <th>has_angel</th>\n",
       "      <th>has_seriesA</th>\n",
       "      <th>has_seriesB</th>\n",
       "      <th>has_seriesC</th>\n",
       "      <th>has_seriesD</th>\n",
       "      <th>avg_participants</th>\n",
       "      <th>is_top500</th>\n",
       "      <th>status</th>\n",
       "    </tr>\n",
       "  </thead>\n",
       "  <tbody>\n",
       "    <tr>\n",
       "      <th>0</th>\n",
       "      <td>CA</td>\n",
       "      <td>42.358880</td>\n",
       "      <td>-71.056820</td>\n",
       "      <td>1/1/2007</td>\n",
       "      <td>2.2493</td>\n",
       "      <td>3.0027</td>\n",
       "      <td>3.0</td>\n",
       "      <td>375000</td>\n",
       "      <td>music</td>\n",
       "      <td>No</td>\n",
       "      <td>Yes</td>\n",
       "      <td>No</td>\n",
       "      <td>No</td>\n",
       "      <td>No</td>\n",
       "      <td>No</td>\n",
       "      <td>1.0000</td>\n",
       "      <td>No</td>\n",
       "      <td>acquired</td>\n",
       "    </tr>\n",
       "    <tr>\n",
       "      <th>1</th>\n",
       "      <td>CA</td>\n",
       "      <td>37.238916</td>\n",
       "      <td>-121.973718</td>\n",
       "      <td>1/1/2000</td>\n",
       "      <td>5.1260</td>\n",
       "      <td>9.9973</td>\n",
       "      <td>4.0</td>\n",
       "      <td>40100000</td>\n",
       "      <td>enterprise</td>\n",
       "      <td>Yes</td>\n",
       "      <td>No</td>\n",
       "      <td>No</td>\n",
       "      <td>Yes</td>\n",
       "      <td>Yes</td>\n",
       "      <td>Yes</td>\n",
       "      <td>4.7500</td>\n",
       "      <td>Yes</td>\n",
       "      <td>acquired</td>\n",
       "    </tr>\n",
       "    <tr>\n",
       "      <th>2</th>\n",
       "      <td>CA</td>\n",
       "      <td>32.901049</td>\n",
       "      <td>-117.192656</td>\n",
       "      <td>3/18/2009</td>\n",
       "      <td>1.0329</td>\n",
       "      <td>1.0329</td>\n",
       "      <td>1.0</td>\n",
       "      <td>-2600000</td>\n",
       "      <td>web</td>\n",
       "      <td>No</td>\n",
       "      <td>No</td>\n",
       "      <td>Yes</td>\n",
       "      <td>No</td>\n",
       "      <td>No</td>\n",
       "      <td>No</td>\n",
       "      <td>4.0000</td>\n",
       "      <td>Yes</td>\n",
       "      <td>acquired</td>\n",
       "    </tr>\n",
       "    <tr>\n",
       "      <th>3</th>\n",
       "      <td>CA</td>\n",
       "      <td>37.320309</td>\n",
       "      <td>-122.050040</td>\n",
       "      <td>1/1/2002</td>\n",
       "      <td>3.1315</td>\n",
       "      <td>5.3151</td>\n",
       "      <td>3.0</td>\n",
       "      <td>40000000</td>\n",
       "      <td>software</td>\n",
       "      <td>No</td>\n",
       "      <td>No</td>\n",
       "      <td>No</td>\n",
       "      <td>Yes</td>\n",
       "      <td>Yes</td>\n",
       "      <td>Yes</td>\n",
       "      <td>3.3333</td>\n",
       "      <td>Yes</td>\n",
       "      <td>acquired</td>\n",
       "    </tr>\n",
       "    <tr>\n",
       "      <th>4</th>\n",
       "      <td>CA</td>\n",
       "      <td>37.779281</td>\n",
       "      <td>-122.419236</td>\n",
       "      <td>8/1/2010</td>\n",
       "      <td>NaN</td>\n",
       "      <td>1.6685</td>\n",
       "      <td>2.0</td>\n",
       "      <td>1300000</td>\n",
       "      <td>games_video</td>\n",
       "      <td>Yes</td>\n",
       "      <td>Yes</td>\n",
       "      <td>No</td>\n",
       "      <td>No</td>\n",
       "      <td>No</td>\n",
       "      <td>No</td>\n",
       "      <td>1.0000</td>\n",
       "      <td>Yes</td>\n",
       "      <td>closed</td>\n",
       "    </tr>\n",
       "    <tr>\n",
       "      <th>5</th>\n",
       "      <td>CA</td>\n",
       "      <td>37.406914</td>\n",
       "      <td>-122.090370</td>\n",
       "      <td>1/1/2002</td>\n",
       "      <td>NaN</td>\n",
       "      <td>4.5452</td>\n",
       "      <td>1.0</td>\n",
       "      <td>7500000</td>\n",
       "      <td>network_hosting</td>\n",
       "      <td>No</td>\n",
       "      <td>No</td>\n",
       "      <td>No</td>\n",
       "      <td>Yes</td>\n",
       "      <td>No</td>\n",
       "      <td>No</td>\n",
       "      <td>3.0000</td>\n",
       "      <td>Yes</td>\n",
       "      <td>closed</td>\n",
       "    </tr>\n",
       "    <tr>\n",
       "      <th>6</th>\n",
       "      <td>CA</td>\n",
       "      <td>37.391559</td>\n",
       "      <td>-122.070264</td>\n",
       "      <td>1/1/2005</td>\n",
       "      <td>1.7205</td>\n",
       "      <td>5.2110</td>\n",
       "      <td>3.0</td>\n",
       "      <td>26000000000</td>\n",
       "      <td>software</td>\n",
       "      <td>Yes</td>\n",
       "      <td>No</td>\n",
       "      <td>Yes</td>\n",
       "      <td>Yes</td>\n",
       "      <td>No</td>\n",
       "      <td>No</td>\n",
       "      <td>1.6667</td>\n",
       "      <td>Yes</td>\n",
       "      <td>acquired</td>\n",
       "    </tr>\n",
       "    <tr>\n",
       "      <th>7</th>\n",
       "      <td>CA</td>\n",
       "      <td>38.057107</td>\n",
       "      <td>-122.513742</td>\n",
       "      <td>1/1/2004</td>\n",
       "      <td>1.6466</td>\n",
       "      <td>6.7616</td>\n",
       "      <td>3.0</td>\n",
       "      <td>34100000</td>\n",
       "      <td>NaN</td>\n",
       "      <td>No</td>\n",
       "      <td>No</td>\n",
       "      <td>Yes</td>\n",
       "      <td>Yes</td>\n",
       "      <td>No</td>\n",
       "      <td>Yes</td>\n",
       "      <td>3.5000</td>\n",
       "      <td>Yes</td>\n",
       "      <td>acquired</td>\n",
       "    </tr>\n",
       "    <tr>\n",
       "      <th>8</th>\n",
       "      <td>MA</td>\n",
       "      <td>42.712207</td>\n",
       "      <td>-73.203599</td>\n",
       "      <td>1/1/2002</td>\n",
       "      <td>3.5863</td>\n",
       "      <td>11.1123</td>\n",
       "      <td>3.0</td>\n",
       "      <td>9650000</td>\n",
       "      <td>NaN</td>\n",
       "      <td>Yes</td>\n",
       "      <td>No</td>\n",
       "      <td>Yes</td>\n",
       "      <td>No</td>\n",
       "      <td>No</td>\n",
       "      <td>Yes</td>\n",
       "      <td>NaN</td>\n",
       "      <td>Yes</td>\n",
       "      <td>acquired</td>\n",
       "    </tr>\n",
       "    <tr>\n",
       "      <th>9</th>\n",
       "      <td>CA</td>\n",
       "      <td>37.427235</td>\n",
       "      <td>-122.145783</td>\n",
       "      <td>6/1/2005</td>\n",
       "      <td>1.6712</td>\n",
       "      <td>4.6849</td>\n",
       "      <td>3.0</td>\n",
       "      <td>5750000</td>\n",
       "      <td>NaN</td>\n",
       "      <td>Yes</td>\n",
       "      <td>Yes</td>\n",
       "      <td>Yes</td>\n",
       "      <td>No</td>\n",
       "      <td>No</td>\n",
       "      <td>No</td>\n",
       "      <td>NaN</td>\n",
       "      <td>Yes</td>\n",
       "      <td>acquired</td>\n",
       "    </tr>\n",
       "  </tbody>\n",
       "</table>\n",
       "</div>"
      ],
      "text/plain": [
       "  state_code   latitude   longitude founded_at  age_first_funding_year  \\\n",
       "0         CA  42.358880  -71.056820   1/1/2007                  2.2493   \n",
       "1         CA  37.238916 -121.973718   1/1/2000                  5.1260   \n",
       "2         CA  32.901049 -117.192656  3/18/2009                  1.0329   \n",
       "3         CA  37.320309 -122.050040   1/1/2002                  3.1315   \n",
       "4         CA  37.779281 -122.419236   8/1/2010                     NaN   \n",
       "5         CA  37.406914 -122.090370   1/1/2002                     NaN   \n",
       "6         CA  37.391559 -122.070264   1/1/2005                  1.7205   \n",
       "7         CA  38.057107 -122.513742   1/1/2004                  1.6466   \n",
       "8         MA  42.712207  -73.203599   1/1/2002                  3.5863   \n",
       "9         CA  37.427235 -122.145783   6/1/2005                  1.6712   \n",
       "\n",
       "   age_last_funding_year  funding_rounds  funding_total_usd    category_code  \\\n",
       "0                 3.0027             3.0             375000            music   \n",
       "1                 9.9973             4.0           40100000       enterprise   \n",
       "2                 1.0329             1.0           -2600000              web   \n",
       "3                 5.3151             3.0           40000000         software   \n",
       "4                 1.6685             2.0            1300000      games_video   \n",
       "5                 4.5452             1.0            7500000  network_hosting   \n",
       "6                 5.2110             3.0        26000000000         software   \n",
       "7                 6.7616             3.0           34100000              NaN   \n",
       "8                11.1123             3.0            9650000              NaN   \n",
       "9                 4.6849             3.0            5750000              NaN   \n",
       "\n",
       "  has_VC has_angel has_seriesA has_seriesB has_seriesC has_seriesD  \\\n",
       "0     No       Yes          No          No          No          No   \n",
       "1    Yes        No          No         Yes         Yes         Yes   \n",
       "2     No        No         Yes          No          No          No   \n",
       "3     No        No          No         Yes         Yes         Yes   \n",
       "4    Yes       Yes          No          No          No          No   \n",
       "5     No        No          No         Yes          No          No   \n",
       "6    Yes        No         Yes         Yes          No          No   \n",
       "7     No        No         Yes         Yes          No         Yes   \n",
       "8    Yes        No         Yes          No          No         Yes   \n",
       "9    Yes       Yes         Yes          No          No          No   \n",
       "\n",
       "   avg_participants is_top500    status  \n",
       "0            1.0000        No  acquired  \n",
       "1            4.7500       Yes  acquired  \n",
       "2            4.0000       Yes  acquired  \n",
       "3            3.3333       Yes  acquired  \n",
       "4            1.0000       Yes    closed  \n",
       "5            3.0000       Yes    closed  \n",
       "6            1.6667       Yes  acquired  \n",
       "7            3.5000       Yes  acquired  \n",
       "8               NaN       Yes  acquired  \n",
       "9               NaN       Yes  acquired  "
      ]
     },
     "metadata": {},
     "output_type": "display_data"
    }
   ],
   "source": [
    "startup_df = pd.read_csv(\"startup_data.csv\")\n",
    "display(startup_df.head(10))"
   ]
  },
  {
   "cell_type": "markdown",
   "metadata": {},
   "source": [
    "## Data Description"
   ]
  },
  {
   "cell_type": "markdown",
   "metadata": {},
   "source": [
    "- state_code: kode state startup\n",
    "- latitude: posisi latitude startup\n",
    "- longitude: posisi longitude startup\n",
    "- founded_at: tanggal ketika startup tersebut didirikan\n",
    "- age_first_funding_year: umur startup dalam tahun ketika pertama kali mendapatkan funding\n",
    "- age_last_funding_year: umur startup dalam tahun ketika terakhir kali mendapatkan funding\n",
    "- funding_rounds: banyaknya funding yang diterima oleh startup \n",
    "- funding_total_usd: jumlah funding yang diterima oleh startup dalam USD\n",
    "- category_code: bidang yang menjadi fokus dari startup\n",
    "- has_VC: apakah startup tersebut memiliki venture capital\n",
    "- has_angel: apakah startup tersebut memiliki angel investor\n",
    "- has_seriesA: apakah startup tersebut mendapatkan funding series A\n",
    "- has_seriesB: apakah startup tersebut mendapatkan funding series B\n",
    "- has_seriesC: apakah startup tersebut mendapatkan funding series C\n",
    "- has_seriesD: apakah startup tersebut mendapatkan funding series D\n",
    "- avg_participants: rata-rata banyak pengguna dari startup tersebut dalam juta\n",
    "- is_top500: apakah startup tersebut pernah masuk ke dalam 500 startup dengan peringkat teratas di Amerika\n",
    "- status (target): status dari startup tersebut sekarang, acquired berarti startup tersebut berhasil karena diakuisisi oleh organisasi lain, sebaliknya, closed berarti startup tersebut sudah berhenti beroperasi dan gagal"
   ]
  },
  {
   "cell_type": "code",
   "execution_count": 191,
   "metadata": {},
   "outputs": [
    {
     "data": {
      "text/plain": [
       "state_code                 object\n",
       "latitude                  float64\n",
       "longitude                 float64\n",
       "founded_at                 object\n",
       "age_first_funding_year    float64\n",
       "age_last_funding_year     float64\n",
       "funding_rounds            float64\n",
       "funding_total_usd           int64\n",
       "category_code              object\n",
       "has_VC                     object\n",
       "has_angel                  object\n",
       "has_seriesA                object\n",
       "has_seriesB                object\n",
       "has_seriesC                object\n",
       "has_seriesD                object\n",
       "avg_participants          float64\n",
       "is_top500                  object\n",
       "status                     object\n",
       "dtype: object"
      ]
     },
     "execution_count": 191,
     "metadata": {},
     "output_type": "execute_result"
    }
   ],
   "source": [
    "startup_df.dtypes"
   ]
  },
  {
   "cell_type": "code",
   "execution_count": 192,
   "metadata": {},
   "outputs": [
    {
     "name": "stdout",
     "output_type": "stream",
     "text": [
      "<class 'pandas.core.frame.DataFrame'>\n",
      "RangeIndex: 949 entries, 0 to 948\n",
      "Data columns (total 18 columns):\n",
      " #   Column                  Non-Null Count  Dtype  \n",
      "---  ------                  --------------  -----  \n",
      " 0   state_code              949 non-null    object \n",
      " 1   latitude                949 non-null    float64\n",
      " 2   longitude               949 non-null    float64\n",
      " 3   founded_at              949 non-null    object \n",
      " 4   age_first_funding_year  885 non-null    float64\n",
      " 5   age_last_funding_year   894 non-null    float64\n",
      " 6   funding_rounds          946 non-null    float64\n",
      " 7   funding_total_usd       949 non-null    int64  \n",
      " 8   category_code           897 non-null    object \n",
      " 9   has_VC                  949 non-null    object \n",
      " 10  has_angel               949 non-null    object \n",
      " 11  has_seriesA             949 non-null    object \n",
      " 12  has_seriesB             949 non-null    object \n",
      " 13  has_seriesC             949 non-null    object \n",
      " 14  has_seriesD             949 non-null    object \n",
      " 15  avg_participants        901 non-null    float64\n",
      " 16  is_top500               949 non-null    object \n",
      " 17  status                  949 non-null    object \n",
      "dtypes: float64(6), int64(1), object(11)\n",
      "memory usage: 133.6+ KB\n"
     ]
    }
   ],
   "source": [
    "startup_df.info()"
   ]
  },
  {
   "cell_type": "code",
   "execution_count": 193,
   "metadata": {},
   "outputs": [
    {
     "data": {
      "text/html": [
       "<div>\n",
       "<style scoped>\n",
       "    .dataframe tbody tr th:only-of-type {\n",
       "        vertical-align: middle;\n",
       "    }\n",
       "\n",
       "    .dataframe tbody tr th {\n",
       "        vertical-align: top;\n",
       "    }\n",
       "\n",
       "    .dataframe thead th {\n",
       "        text-align: right;\n",
       "    }\n",
       "</style>\n",
       "<table border=\"1\" class=\"dataframe\">\n",
       "  <thead>\n",
       "    <tr style=\"text-align: right;\">\n",
       "      <th></th>\n",
       "      <th>latitude</th>\n",
       "      <th>longitude</th>\n",
       "      <th>age_first_funding_year</th>\n",
       "      <th>age_last_funding_year</th>\n",
       "      <th>funding_rounds</th>\n",
       "      <th>funding_total_usd</th>\n",
       "      <th>avg_participants</th>\n",
       "    </tr>\n",
       "  </thead>\n",
       "  <tbody>\n",
       "    <tr>\n",
       "      <th>count</th>\n",
       "      <td>949.000000</td>\n",
       "      <td>949.000000</td>\n",
       "      <td>885.000000</td>\n",
       "      <td>894.000000</td>\n",
       "      <td>946.000000</td>\n",
       "      <td>9.490000e+02</td>\n",
       "      <td>901.000000</td>\n",
       "    </tr>\n",
       "    <tr>\n",
       "      <th>mean</th>\n",
       "      <td>38.530398</td>\n",
       "      <td>-103.465916</td>\n",
       "      <td>2.322209</td>\n",
       "      <td>3.987377</td>\n",
       "      <td>2.313953</td>\n",
       "      <td>1.544590e+09</td>\n",
       "      <td>2.857545</td>\n",
       "    </tr>\n",
       "    <tr>\n",
       "      <th>std</th>\n",
       "      <td>3.756150</td>\n",
       "      <td>22.382011</td>\n",
       "      <td>2.941926</td>\n",
       "      <td>3.313172</td>\n",
       "      <td>1.402098</td>\n",
       "      <td>2.446676e+10</td>\n",
       "      <td>1.875341</td>\n",
       "    </tr>\n",
       "    <tr>\n",
       "      <th>min</th>\n",
       "      <td>25.752358</td>\n",
       "      <td>-122.756956</td>\n",
       "      <td>-9.046600</td>\n",
       "      <td>-9.046600</td>\n",
       "      <td>1.000000</td>\n",
       "      <td>-9.500000e+06</td>\n",
       "      <td>1.000000</td>\n",
       "    </tr>\n",
       "    <tr>\n",
       "      <th>25%</th>\n",
       "      <td>37.388869</td>\n",
       "      <td>-122.200914</td>\n",
       "      <td>0.517800</td>\n",
       "      <td>1.690375</td>\n",
       "      <td>1.000000</td>\n",
       "      <td>2.700000e+06</td>\n",
       "      <td>1.500000</td>\n",
       "    </tr>\n",
       "    <tr>\n",
       "      <th>50%</th>\n",
       "      <td>37.779281</td>\n",
       "      <td>-118.354605</td>\n",
       "      <td>1.424700</td>\n",
       "      <td>3.494500</td>\n",
       "      <td>2.000000</td>\n",
       "      <td>1.000000e+07</td>\n",
       "      <td>2.500000</td>\n",
       "    </tr>\n",
       "    <tr>\n",
       "      <th>75%</th>\n",
       "      <td>40.730646</td>\n",
       "      <td>-77.212493</td>\n",
       "      <td>3.602700</td>\n",
       "      <td>5.543150</td>\n",
       "      <td>3.000000</td>\n",
       "      <td>2.490000e+07</td>\n",
       "      <td>4.000000</td>\n",
       "    </tr>\n",
       "    <tr>\n",
       "      <th>max</th>\n",
       "      <td>59.335232</td>\n",
       "      <td>18.057121</td>\n",
       "      <td>34.490400</td>\n",
       "      <td>34.490400</td>\n",
       "      <td>10.000000</td>\n",
       "      <td>6.423100e+11</td>\n",
       "      <td>16.000000</td>\n",
       "    </tr>\n",
       "  </tbody>\n",
       "</table>\n",
       "</div>"
      ],
      "text/plain": [
       "         latitude   longitude  age_first_funding_year  age_last_funding_year  \\\n",
       "count  949.000000  949.000000              885.000000             894.000000   \n",
       "mean    38.530398 -103.465916                2.322209               3.987377   \n",
       "std      3.756150   22.382011                2.941926               3.313172   \n",
       "min     25.752358 -122.756956               -9.046600              -9.046600   \n",
       "25%     37.388869 -122.200914                0.517800               1.690375   \n",
       "50%     37.779281 -118.354605                1.424700               3.494500   \n",
       "75%     40.730646  -77.212493                3.602700               5.543150   \n",
       "max     59.335232   18.057121               34.490400              34.490400   \n",
       "\n",
       "       funding_rounds  funding_total_usd  avg_participants  \n",
       "count      946.000000       9.490000e+02        901.000000  \n",
       "mean         2.313953       1.544590e+09          2.857545  \n",
       "std          1.402098       2.446676e+10          1.875341  \n",
       "min          1.000000      -9.500000e+06          1.000000  \n",
       "25%          1.000000       2.700000e+06          1.500000  \n",
       "50%          2.000000       1.000000e+07          2.500000  \n",
       "75%          3.000000       2.490000e+07          4.000000  \n",
       "max         10.000000       6.423100e+11         16.000000  "
      ]
     },
     "execution_count": 193,
     "metadata": {},
     "output_type": "execute_result"
    }
   ],
   "source": [
    "startup_df.describe()"
   ]
  },
  {
   "cell_type": "code",
   "execution_count": 194,
   "metadata": {},
   "outputs": [
    {
     "data": {
      "text/plain": [
       "(949, 18)"
      ]
     },
     "execution_count": 194,
     "metadata": {},
     "output_type": "execute_result"
    }
   ],
   "source": [
    "startup_df.shape"
   ]
  },
  {
   "cell_type": "markdown",
   "metadata": {},
   "source": [
    "## Data Preprocessing"
   ]
  },
  {
   "cell_type": "markdown",
   "metadata": {},
   "source": [
    "* Redundant Data"
   ]
  },
  {
   "cell_type": "code",
   "execution_count": 195,
   "metadata": {},
   "outputs": [
    {
     "name": "stdout",
     "output_type": "stream",
     "text": [
      "Jumlah data redundan 26\n"
     ]
    }
   ],
   "source": [
    "print(f\"Jumlah data redundan {startup_df.duplicated().sum()}\")"
   ]
  },
  {
   "cell_type": "code",
   "execution_count": 196,
   "metadata": {},
   "outputs": [],
   "source": [
    "startup_df.drop_duplicates(inplace=True)"
   ]
  },
  {
   "cell_type": "code",
   "execution_count": 197,
   "metadata": {},
   "outputs": [
    {
     "data": {
      "text/plain": [
       "(923, 18)"
      ]
     },
     "execution_count": 197,
     "metadata": {},
     "output_type": "execute_result"
    }
   ],
   "source": [
    "startup_df.shape"
   ]
  },
  {
   "cell_type": "code",
   "execution_count": 198,
   "metadata": {},
   "outputs": [
    {
     "name": "stdout",
     "output_type": "stream",
     "text": [
      "Jumlah data redundan 0\n"
     ]
    }
   ],
   "source": [
    "print(f\"Jumlah data redundan {startup_df.duplicated().sum()}\")"
   ]
  },
  {
   "cell_type": "markdown",
   "metadata": {},
   "source": [
    "* Missing values"
   ]
  },
  {
   "cell_type": "code",
   "execution_count": 199,
   "metadata": {},
   "outputs": [
    {
     "data": {
      "text/plain": [
       "state_code                 0\n",
       "latitude                   0\n",
       "longitude                  0\n",
       "founded_at                 0\n",
       "age_first_funding_year    60\n",
       "age_last_funding_year     55\n",
       "funding_rounds             3\n",
       "funding_total_usd          0\n",
       "category_code             48\n",
       "has_VC                     0\n",
       "has_angel                  0\n",
       "has_seriesA                0\n",
       "has_seriesB                0\n",
       "has_seriesC                0\n",
       "has_seriesD                0\n",
       "avg_participants          48\n",
       "is_top500                  0\n",
       "status                     0\n",
       "dtype: int64"
      ]
     },
     "execution_count": 199,
     "metadata": {},
     "output_type": "execute_result"
    }
   ],
   "source": [
    "startup_df.isnull().sum()"
   ]
  },
  {
   "cell_type": "markdown",
   "metadata": {},
   "source": [
    "Since the sum of null values are much enough, we can't drop the rows. Hence, we fill the null values with mean value as not disrupt the analysis. "
   ]
  },
  {
   "cell_type": "code",
   "execution_count": 200,
   "metadata": {},
   "outputs": [],
   "source": [
    "mean_affy = startup_df['age_first_funding_year'].mean()\n",
    "startup_df['age_first_funding_year'].fillna(mean_affy, inplace=True)"
   ]
  },
  {
   "cell_type": "code",
   "execution_count": 201,
   "metadata": {},
   "outputs": [],
   "source": [
    "mean_alfy = startup_df['age_last_funding_year'].mean()\n",
    "startup_df['age_last_funding_year'].fillna(mean_alfy, inplace=True)"
   ]
  },
  {
   "cell_type": "code",
   "execution_count": 202,
   "metadata": {},
   "outputs": [],
   "source": [
    "startup_df['category_code'].value_counts().head(1)\n",
    "startup_df['category_code'].fillna('web', inplace=True)"
   ]
  },
  {
   "cell_type": "code",
   "execution_count": 203,
   "metadata": {},
   "outputs": [],
   "source": [
    "mean_ap = startup_df['avg_participants'].mean()\n",
    "startup_df['avg_participants'].fillna(mean_ap, inplace=True)"
   ]
  },
  {
   "cell_type": "code",
   "execution_count": 204,
   "metadata": {},
   "outputs": [],
   "source": [
    "startup_df.dropna(inplace=True)"
   ]
  },
  {
   "cell_type": "code",
   "execution_count": 205,
   "metadata": {},
   "outputs": [
    {
     "data": {
      "text/plain": [
       "state_code                0\n",
       "latitude                  0\n",
       "longitude                 0\n",
       "founded_at                0\n",
       "age_first_funding_year    0\n",
       "age_last_funding_year     0\n",
       "funding_rounds            0\n",
       "funding_total_usd         0\n",
       "category_code             0\n",
       "has_VC                    0\n",
       "has_angel                 0\n",
       "has_seriesA               0\n",
       "has_seriesB               0\n",
       "has_seriesC               0\n",
       "has_seriesD               0\n",
       "avg_participants          0\n",
       "is_top500                 0\n",
       "status                    0\n",
       "dtype: int64"
      ]
     },
     "execution_count": 205,
     "metadata": {},
     "output_type": "execute_result"
    }
   ],
   "source": [
    "startup_df.isnull().sum()"
   ]
  },
  {
   "cell_type": "markdown",
   "metadata": {},
   "source": [
    "## Exploratory Data Analysis"
   ]
  },
  {
   "cell_type": "code",
   "execution_count": 206,
   "metadata": {},
   "outputs": [
    {
     "data": {
      "text/html": [
       "<div>\n",
       "<style scoped>\n",
       "    .dataframe tbody tr th:only-of-type {\n",
       "        vertical-align: middle;\n",
       "    }\n",
       "\n",
       "    .dataframe tbody tr th {\n",
       "        vertical-align: top;\n",
       "    }\n",
       "\n",
       "    .dataframe thead th {\n",
       "        text-align: right;\n",
       "    }\n",
       "</style>\n",
       "<table border=\"1\" class=\"dataframe\">\n",
       "  <thead>\n",
       "    <tr style=\"text-align: right;\">\n",
       "      <th></th>\n",
       "      <th>age_first_funding_year</th>\n",
       "      <th>age_last_funding_year</th>\n",
       "      <th>funding_total_usd</th>\n",
       "    </tr>\n",
       "  </thead>\n",
       "  <tbody>\n",
       "    <tr>\n",
       "      <th>count</th>\n",
       "      <td>920.000000</td>\n",
       "      <td>920.000000</td>\n",
       "      <td>9.200000e+02</td>\n",
       "    </tr>\n",
       "    <tr>\n",
       "      <th>mean</th>\n",
       "      <td>2.326420</td>\n",
       "      <td>4.000726</td>\n",
       "      <td>1.592146e+09</td>\n",
       "    </tr>\n",
       "    <tr>\n",
       "      <th>std</th>\n",
       "      <td>2.847659</td>\n",
       "      <td>3.216783</td>\n",
       "      <td>2.484830e+10</td>\n",
       "    </tr>\n",
       "    <tr>\n",
       "      <th>min</th>\n",
       "      <td>-9.046600</td>\n",
       "      <td>-9.046600</td>\n",
       "      <td>-9.500000e+06</td>\n",
       "    </tr>\n",
       "    <tr>\n",
       "      <th>25%</th>\n",
       "      <td>0.586300</td>\n",
       "      <td>1.869850</td>\n",
       "      <td>2.737500e+06</td>\n",
       "    </tr>\n",
       "    <tr>\n",
       "      <th>50%</th>\n",
       "      <td>1.671200</td>\n",
       "      <td>3.742450</td>\n",
       "      <td>1.000000e+07</td>\n",
       "    </tr>\n",
       "    <tr>\n",
       "      <th>75%</th>\n",
       "      <td>3.388350</td>\n",
       "      <td>5.332875</td>\n",
       "      <td>2.492500e+07</td>\n",
       "    </tr>\n",
       "    <tr>\n",
       "      <th>max</th>\n",
       "      <td>34.490400</td>\n",
       "      <td>34.490400</td>\n",
       "      <td>6.423100e+11</td>\n",
       "    </tr>\n",
       "  </tbody>\n",
       "</table>\n",
       "</div>"
      ],
      "text/plain": [
       "       age_first_funding_year  age_last_funding_year  funding_total_usd\n",
       "count              920.000000             920.000000       9.200000e+02\n",
       "mean                 2.326420               4.000726       1.592146e+09\n",
       "std                  2.847659               3.216783       2.484830e+10\n",
       "min                 -9.046600              -9.046600      -9.500000e+06\n",
       "25%                  0.586300               1.869850       2.737500e+06\n",
       "50%                  1.671200               3.742450       1.000000e+07\n",
       "75%                  3.388350               5.332875       2.492500e+07\n",
       "max                 34.490400              34.490400       6.423100e+11"
      ]
     },
     "execution_count": 206,
     "metadata": {},
     "output_type": "execute_result"
    }
   ],
   "source": [
    "df2 = startup_df[['age_first_funding_year', 'age_last_funding_year', 'funding_total_usd']]\n",
    "df2.describe()\n"
   ]
  },
  {
   "cell_type": "markdown",
   "metadata": {},
   "source": [
    "There are anomalies data where the minimum value of age_first_funding_year and age_last_funding_year is minus. Let's investigate it"
   ]
  },
  {
   "cell_type": "code",
   "execution_count": 211,
   "metadata": {},
   "outputs": [
    {
     "data": {
      "text/plain": [
       "dtype('float64')"
      ]
     },
     "execution_count": 211,
     "metadata": {},
     "output_type": "execute_result"
    }
   ],
   "source": [
    "startup_df['age_first_funding_year'].dtype"
   ]
  },
  {
   "cell_type": "code",
   "execution_count": 218,
   "metadata": {},
   "outputs": [
    {
     "ename": "TypeError",
     "evalue": "unhashable type: 'Series'",
     "output_type": "error",
     "traceback": [
      "\u001b[0;31m---------------------------------------------------------------------------\u001b[0m",
      "\u001b[0;31mTypeError\u001b[0m                                 Traceback (most recent call last)",
      "\u001b[0;32m/var/folders/wj/zf810q1154vd1msmx_0qkrkw0000gn/T/ipykernel_43663/3042409869.py\u001b[0m in \u001b[0;36m?\u001b[0;34m()\u001b[0m\n\u001b[0;32m----> 1\u001b[0;31m \u001b[0mstartup_df\u001b[0m\u001b[0;34m.\u001b[0m\u001b[0mloc\u001b[0m\u001b[0;34m(\u001b[0m\u001b[0mstartup_df\u001b[0m\u001b[0;34m[\u001b[0m\u001b[0;34m'age_first_funding_year'\u001b[0m\u001b[0;34m]\u001b[0m \u001b[0;34m==\u001b[0m \u001b[0;34m-\u001b[0m\u001b[0;36m9.046600\u001b[0m\u001b[0;34m)\u001b[0m\u001b[0;34m\u001b[0m\u001b[0;34m\u001b[0m\u001b[0m\n\u001b[0m",
      "\u001b[0;32m/Library/Frameworks/Python.framework/Versions/3.10/lib/python3.10/site-packages/pandas/core/indexing.py\u001b[0m in \u001b[0;36m?\u001b[0;34m(self, axis)\u001b[0m\n\u001b[1;32m    675\u001b[0m         \u001b[0;31m# we need to return a copy of ourselves\u001b[0m\u001b[0;34m\u001b[0m\u001b[0;34m\u001b[0m\u001b[0m\n\u001b[1;32m    676\u001b[0m         \u001b[0mnew_self\u001b[0m \u001b[0;34m=\u001b[0m \u001b[0mtype\u001b[0m\u001b[0;34m(\u001b[0m\u001b[0mself\u001b[0m\u001b[0;34m)\u001b[0m\u001b[0;34m(\u001b[0m\u001b[0mself\u001b[0m\u001b[0;34m.\u001b[0m\u001b[0mname\u001b[0m\u001b[0;34m,\u001b[0m \u001b[0mself\u001b[0m\u001b[0;34m.\u001b[0m\u001b[0mobj\u001b[0m\u001b[0;34m)\u001b[0m\u001b[0;34m\u001b[0m\u001b[0;34m\u001b[0m\u001b[0m\n\u001b[1;32m    677\u001b[0m \u001b[0;34m\u001b[0m\u001b[0m\n\u001b[1;32m    678\u001b[0m         \u001b[0;32mif\u001b[0m \u001b[0maxis\u001b[0m \u001b[0;32mis\u001b[0m \u001b[0;32mnot\u001b[0m \u001b[0;32mNone\u001b[0m\u001b[0;34m:\u001b[0m\u001b[0;34m\u001b[0m\u001b[0;34m\u001b[0m\u001b[0m\n\u001b[0;32m--> 679\u001b[0;31m             \u001b[0maxis_int_none\u001b[0m \u001b[0;34m=\u001b[0m \u001b[0mself\u001b[0m\u001b[0;34m.\u001b[0m\u001b[0mobj\u001b[0m\u001b[0;34m.\u001b[0m\u001b[0m_get_axis_number\u001b[0m\u001b[0;34m(\u001b[0m\u001b[0maxis\u001b[0m\u001b[0;34m)\u001b[0m\u001b[0;34m\u001b[0m\u001b[0;34m\u001b[0m\u001b[0m\n\u001b[0m\u001b[1;32m    680\u001b[0m         \u001b[0;32melse\u001b[0m\u001b[0;34m:\u001b[0m\u001b[0;34m\u001b[0m\u001b[0;34m\u001b[0m\u001b[0m\n\u001b[1;32m    681\u001b[0m             \u001b[0maxis_int_none\u001b[0m \u001b[0;34m=\u001b[0m \u001b[0maxis\u001b[0m\u001b[0;34m\u001b[0m\u001b[0;34m\u001b[0m\u001b[0m\n\u001b[1;32m    682\u001b[0m         \u001b[0mnew_self\u001b[0m\u001b[0;34m.\u001b[0m\u001b[0maxis\u001b[0m \u001b[0;34m=\u001b[0m \u001b[0maxis_int_none\u001b[0m\u001b[0;34m\u001b[0m\u001b[0;34m\u001b[0m\u001b[0m\n",
      "\u001b[0;32m/Library/Frameworks/Python.framework/Versions/3.10/lib/python3.10/site-packages/pandas/core/generic.py\u001b[0m in \u001b[0;36m?\u001b[0;34m(cls, axis)\u001b[0m\n\u001b[1;32m    510\u001b[0m     \u001b[0;34m@\u001b[0m\u001b[0mclassmethod\u001b[0m\u001b[0;34m\u001b[0m\u001b[0;34m\u001b[0m\u001b[0m\n\u001b[1;32m    511\u001b[0m     \u001b[0;32mdef\u001b[0m \u001b[0m_get_axis_number\u001b[0m\u001b[0;34m(\u001b[0m\u001b[0mcls\u001b[0m\u001b[0;34m,\u001b[0m \u001b[0maxis\u001b[0m\u001b[0;34m:\u001b[0m \u001b[0mAxis\u001b[0m\u001b[0;34m)\u001b[0m \u001b[0;34m->\u001b[0m \u001b[0mAxisInt\u001b[0m\u001b[0;34m:\u001b[0m\u001b[0;34m\u001b[0m\u001b[0;34m\u001b[0m\u001b[0m\n\u001b[1;32m    512\u001b[0m         \u001b[0;32mtry\u001b[0m\u001b[0;34m:\u001b[0m\u001b[0;34m\u001b[0m\u001b[0;34m\u001b[0m\u001b[0m\n\u001b[1;32m    513\u001b[0m             \u001b[0;32mreturn\u001b[0m \u001b[0mcls\u001b[0m\u001b[0;34m.\u001b[0m\u001b[0m_AXIS_TO_AXIS_NUMBER\u001b[0m\u001b[0;34m[\u001b[0m\u001b[0maxis\u001b[0m\u001b[0;34m]\u001b[0m\u001b[0;34m\u001b[0m\u001b[0;34m\u001b[0m\u001b[0m\n\u001b[0;32m--> 514\u001b[0;31m         \u001b[0;32mexcept\u001b[0m \u001b[0mKeyError\u001b[0m\u001b[0;34m:\u001b[0m\u001b[0;34m\u001b[0m\u001b[0;34m\u001b[0m\u001b[0m\n\u001b[0m\u001b[1;32m    515\u001b[0m             \u001b[0;32mraise\u001b[0m \u001b[0mValueError\u001b[0m\u001b[0;34m(\u001b[0m\u001b[0;34mf\"No axis named {axis} for object type {cls.__name__}\"\u001b[0m\u001b[0;34m)\u001b[0m\u001b[0;34m\u001b[0m\u001b[0;34m\u001b[0m\u001b[0m\n",
      "\u001b[0;31mTypeError\u001b[0m: unhashable type: 'Series'"
     ]
    }
   ],
   "source": [
    "startup_df.loc(startup_df['age_first_funding_year'] == -9.046600)"
   ]
  },
  {
   "cell_type": "code",
   "execution_count": null,
   "metadata": {},
   "outputs": [],
   "source": []
  },
  {
   "cell_type": "code",
   "execution_count": null,
   "metadata": {},
   "outputs": [],
   "source": []
  }
 ],
 "metadata": {
  "kernelspec": {
   "display_name": "Python 3",
   "language": "python",
   "name": "python3"
  },
  "language_info": {
   "codemirror_mode": {
    "name": "ipython",
    "version": 3
   },
   "file_extension": ".py",
   "mimetype": "text/x-python",
   "name": "python",
   "nbconvert_exporter": "python",
   "pygments_lexer": "ipython3",
   "version": "3.10.1"
  },
  "orig_nbformat": 4
 },
 "nbformat": 4,
 "nbformat_minor": 2
}
